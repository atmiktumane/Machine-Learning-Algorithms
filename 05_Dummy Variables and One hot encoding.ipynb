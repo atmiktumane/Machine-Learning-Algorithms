{
 "cells": [
  {
   "cell_type": "code",
   "execution_count": 1,
   "metadata": {},
   "outputs": [
    {
     "data": {
      "text/plain": [
       "'C:\\\\Users\\\\atmik\\\\Documents\\\\10 Machine Learning'"
      ]
     },
     "execution_count": 1,
     "metadata": {},
     "output_type": "execute_result"
    }
   ],
   "source": [
    "pwd"
   ]
  },
  {
   "cell_type": "code",
   "execution_count": 2,
   "metadata": {},
   "outputs": [
    {
     "name": "stdout",
     "output_type": "stream",
     "text": [
      "D:\\Data Scientist\\Data Entry\n"
     ]
    }
   ],
   "source": [
    "cd D:\\Data Scientist\\Data Entry"
   ]
  },
  {
   "cell_type": "code",
   "execution_count": 3,
   "metadata": {},
   "outputs": [
    {
     "name": "stdout",
     "output_type": "stream",
     "text": [
      "               town  area   price\n",
      "0   monroe township  2600  550000\n",
      "1   monroe township  3000  565000\n",
      "2   monroe township  3200  610000\n",
      "3   monroe township  3600  680000\n",
      "4   monroe township  4000  725000\n",
      "5      west windsor  2600  585000\n",
      "6      west windsor  2800  615000\n",
      "7      west windsor  3300  650000\n",
      "8      west windsor  3600  710000\n",
      "9       robinsville  2600  575000\n",
      "10      robinsville  2900  600000\n",
      "11      robinsville  3100  620000\n",
      "12      robinsville  3600  695000\n"
     ]
    }
   ],
   "source": [
    "# DUMMY VARIABLES\n",
    "\n",
    "import pandas as pd\n",
    "df = pd.read_csv('Dummy_ohe_homeprices.csv')\n",
    "print(df.to_string())"
   ]
  },
  {
   "cell_type": "code",
   "execution_count": 4,
   "metadata": {},
   "outputs": [
    {
     "name": "stdout",
     "output_type": "stream",
     "text": [
      "    monroe township  robinsville  west windsor\n",
      "0                 1            0             0\n",
      "1                 1            0             0\n",
      "2                 1            0             0\n",
      "3                 1            0             0\n",
      "4                 1            0             0\n",
      "5                 0            0             1\n",
      "6                 0            0             1\n",
      "7                 0            0             1\n",
      "8                 0            0             1\n",
      "9                 0            1             0\n",
      "10                0            1             0\n",
      "11                0            1             0\n",
      "12                0            1             0\n"
     ]
    }
   ],
   "source": [
    "dummies = pd.get_dummies(df.town)  # df = pd.get_dummies(df, first_drop = True)\n",
    "print(dummies)                     # print(df.head())"
   ]
  },
  {
   "cell_type": "code",
   "execution_count": 5,
   "metadata": {},
   "outputs": [
    {
     "name": "stdout",
     "output_type": "stream",
     "text": [
      "               town  area   price  monroe township  robinsville  west windsor\n",
      "0   monroe township  2600  550000                1            0             0\n",
      "1   monroe township  3000  565000                1            0             0\n",
      "2   monroe township  3200  610000                1            0             0\n",
      "3   monroe township  3600  680000                1            0             0\n",
      "4   monroe township  4000  725000                1            0             0\n",
      "5      west windsor  2600  585000                0            0             1\n",
      "6      west windsor  2800  615000                0            0             1\n",
      "7      west windsor  3300  650000                0            0             1\n",
      "8      west windsor  3600  710000                0            0             1\n",
      "9       robinsville  2600  575000                0            1             0\n",
      "10      robinsville  2900  600000                0            1             0\n",
      "11      robinsville  3100  620000                0            1             0\n",
      "12      robinsville  3600  695000                0            1             0\n"
     ]
    }
   ],
   "source": [
    "merged = pd.concat([df, dummies], axis = 'columns')\n",
    "print(merged)"
   ]
  },
  {
   "cell_type": "code",
   "execution_count": 6,
   "metadata": {},
   "outputs": [
    {
     "name": "stdout",
     "output_type": "stream",
     "text": [
      "    area   price  monroe township  robinsville\n",
      "0   2600  550000                1            0\n",
      "1   3000  565000                1            0\n",
      "2   3200  610000                1            0\n",
      "3   3600  680000                1            0\n",
      "4   4000  725000                1            0\n",
      "5   2600  585000                0            0\n",
      "6   2800  615000                0            0\n",
      "7   3300  650000                0            0\n",
      "8   3600  710000                0            0\n",
      "9   2600  575000                0            1\n",
      "10  2900  600000                0            1\n",
      "11  3100  620000                0            1\n",
      "12  3600  695000                0            1\n"
     ]
    }
   ],
   "source": [
    "final = merged.drop(['town', 'west windsor'], axis = 'columns')\n",
    "print(final)"
   ]
  },
  {
   "cell_type": "code",
   "execution_count": 7,
   "metadata": {},
   "outputs": [
    {
     "name": "stdout",
     "output_type": "stream",
     "text": [
      "    area  monroe township  robinsville\n",
      "0   2600                1            0\n",
      "1   3000                1            0\n",
      "2   3200                1            0\n",
      "3   3600                1            0\n",
      "4   4000                1            0\n",
      "5   2600                0            0\n",
      "6   2800                0            0\n",
      "7   3300                0            0\n",
      "8   3600                0            0\n",
      "9   2600                0            1\n",
      "10  2900                0            1\n",
      "11  3100                0            1\n",
      "12  3600                0            1\n"
     ]
    }
   ],
   "source": [
    "from sklearn.linear_model import LinearRegression\n",
    "\n",
    "model = LinearRegression()\n",
    "x = final.drop('price', axis='columns')\n",
    "print(x)"
   ]
  },
  {
   "cell_type": "code",
   "execution_count": 8,
   "metadata": {},
   "outputs": [
    {
     "name": "stdout",
     "output_type": "stream",
     "text": [
      "0     550000\n",
      "1     565000\n",
      "2     610000\n",
      "3     680000\n",
      "4     725000\n",
      "5     585000\n",
      "6     615000\n",
      "7     650000\n",
      "8     710000\n",
      "9     575000\n",
      "10    600000\n",
      "11    620000\n",
      "12    695000\n",
      "Name: price, dtype: int64\n"
     ]
    }
   ],
   "source": [
    "y = final.price\n",
    "print(y)"
   ]
  },
  {
   "cell_type": "code",
   "execution_count": 9,
   "metadata": {},
   "outputs": [
    {
     "data": {
      "text/plain": [
       "LinearRegression()"
      ]
     },
     "execution_count": 9,
     "metadata": {},
     "output_type": "execute_result"
    }
   ],
   "source": [
    "model.fit(x,y)"
   ]
  },
  {
   "cell_type": "code",
   "execution_count": 10,
   "metadata": {},
   "outputs": [
    {
     "data": {
      "text/plain": [
       "array([681241.66845839])"
      ]
     },
     "execution_count": 10,
     "metadata": {},
     "output_type": "execute_result"
    }
   ],
   "source": [
    "model.predict([[3400,0,0]])"
   ]
  },
  {
   "cell_type": "code",
   "execution_count": 11,
   "metadata": {},
   "outputs": [
    {
     "data": {
      "text/plain": [
       "array([590775.63964739])"
      ]
     },
     "execution_count": 11,
     "metadata": {},
     "output_type": "execute_result"
    }
   ],
   "source": [
    "model.predict([[2800,0,1]])"
   ]
  },
  {
   "cell_type": "code",
   "execution_count": 12,
   "metadata": {},
   "outputs": [
    {
     "data": {
      "text/plain": [
       "0.9573929037221873"
      ]
     },
     "execution_count": 12,
     "metadata": {},
     "output_type": "execute_result"
    }
   ],
   "source": [
    "model.score(x,y)"
   ]
  },
  {
   "cell_type": "code",
   "execution_count": null,
   "metadata": {},
   "outputs": [],
   "source": []
  },
  {
   "cell_type": "code",
   "execution_count": 13,
   "metadata": {},
   "outputs": [],
   "source": [
    "# ONE HOT ENCODER"
   ]
  },
  {
   "cell_type": "code",
   "execution_count": 14,
   "metadata": {},
   "outputs": [
    {
     "name": "stdout",
     "output_type": "stream",
     "text": [
      "               town  area   price\n",
      "0   monroe township  2600  550000\n",
      "1   monroe township  3000  565000\n",
      "2   monroe township  3200  610000\n",
      "3   monroe township  3600  680000\n",
      "4   monroe township  4000  725000\n",
      "5      west windsor  2600  585000\n",
      "6      west windsor  2800  615000\n",
      "7      west windsor  3300  650000\n",
      "8      west windsor  3600  710000\n",
      "9       robinsville  2600  575000\n",
      "10      robinsville  2900  600000\n",
      "11      robinsville  3100  620000\n",
      "12      robinsville  3600  695000\n"
     ]
    }
   ],
   "source": [
    "print(df.to_string())"
   ]
  },
  {
   "cell_type": "code",
   "execution_count": 15,
   "metadata": {},
   "outputs": [
    {
     "name": "stdout",
     "output_type": "stream",
     "text": [
      "    town  area   price\n",
      "0      0  2600  550000\n",
      "1      0  3000  565000\n",
      "2      0  3200  610000\n",
      "3      0  3600  680000\n",
      "4      0  4000  725000\n",
      "5      2  2600  585000\n",
      "6      2  2800  615000\n",
      "7      2  3300  650000\n",
      "8      2  3600  710000\n",
      "9      1  2600  575000\n",
      "10     1  2900  600000\n",
      "11     1  3100  620000\n",
      "12     1  3600  695000\n"
     ]
    }
   ],
   "source": [
    "from sklearn.preprocessing import LabelEncoder\n",
    "le = LabelEncoder()\n",
    "dfle = df\n",
    "dfle.town = le.fit_transform(dfle.town)\n",
    "print(dfle)"
   ]
  },
  {
   "cell_type": "code",
   "execution_count": 16,
   "metadata": {},
   "outputs": [
    {
     "name": "stdout",
     "output_type": "stream",
     "text": [
      "[[   0 2600]\n",
      " [   0 3000]\n",
      " [   0 3200]\n",
      " [   0 3600]\n",
      " [   0 4000]\n",
      " [   2 2600]\n",
      " [   2 2800]\n",
      " [   2 3300]\n",
      " [   2 3600]\n",
      " [   1 2600]\n",
      " [   1 2900]\n",
      " [   1 3100]\n",
      " [   1 3600]]\n"
     ]
    }
   ],
   "source": [
    "x = dfle[['town', 'area']].values   # values gives 2d array instead of dataframe\n",
    "\n",
    "print(x)"
   ]
  },
  {
   "cell_type": "code",
   "execution_count": 17,
   "metadata": {},
   "outputs": [
    {
     "name": "stdout",
     "output_type": "stream",
     "text": [
      "0     550000\n",
      "1     565000\n",
      "2     610000\n",
      "3     680000\n",
      "4     725000\n",
      "5     585000\n",
      "6     615000\n",
      "7     650000\n",
      "8     710000\n",
      "9     575000\n",
      "10    600000\n",
      "11    620000\n",
      "12    695000\n",
      "Name: price, dtype: int64\n"
     ]
    }
   ],
   "source": [
    "y = dfle.price\n",
    "print(y)"
   ]
  },
  {
   "cell_type": "code",
   "execution_count": null,
   "metadata": {},
   "outputs": [],
   "source": [
    "from sklearn.compose import ColumnTransformer\n",
    "\n",
    "transformer = ColumnTransformer(\n",
    "    transformers=[(\"town\",OneHotEncoder(categories='auto'), [0])],remainder='passthrough' \n",
    ")\n",
    "transformer.fit_transform(x.tolist())\n",
    "\n",
    "model.fit(x, y)\n",
    "print(model.predict([[1, 2800]]))\n",
    "print(model.predict([[2, 3400]]))"
   ]
  },
  {
   "cell_type": "code",
   "execution_count": null,
   "metadata": {},
   "outputs": [],
   "source": []
  }
 ],
 "metadata": {
  "kernelspec": {
   "display_name": "Python 3",
   "language": "python",
   "name": "python3"
  },
  "language_info": {
   "codemirror_mode": {
    "name": "ipython",
    "version": 3
   },
   "file_extension": ".py",
   "mimetype": "text/x-python",
   "name": "python",
   "nbconvert_exporter": "python",
   "pygments_lexer": "ipython3",
   "version": "3.8.3"
  }
 },
 "nbformat": 4,
 "nbformat_minor": 4
}
